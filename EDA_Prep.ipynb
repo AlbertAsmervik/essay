{
 "cells": [
  {
   "cell_type": "code",
   "execution_count": 6,
   "id": "ba090ba0-32e8-4556-ac66-e3ac8500c1ae",
   "metadata": {},
   "outputs": [
    {
     "data": {
      "text/html": [
       "<div>\n",
       "<style scoped>\n",
       "    .dataframe tbody tr th:only-of-type {\n",
       "        vertical-align: middle;\n",
       "    }\n",
       "\n",
       "    .dataframe tbody tr th {\n",
       "        vertical-align: top;\n",
       "    }\n",
       "\n",
       "    .dataframe thead th {\n",
       "        text-align: right;\n",
       "    }\n",
       "</style>\n",
       "<table border=\"1\" class=\"dataframe\">\n",
       "  <thead>\n",
       "    <tr style=\"text-align: right;\">\n",
       "      <th></th>\n",
       "      <th>prompt</th>\n",
       "      <th>title</th>\n",
       "      <th>essay</th>\n",
       "      <th>competence</th>\n",
       "      <th>score</th>\n",
       "    </tr>\n",
       "  </thead>\n",
       "  <tbody>\n",
       "    <tr>\n",
       "      <th>0</th>\n",
       "      <td>60</td>\n",
       "      <td>Reforma da previdência</td>\n",
       "      <td>['É notório que a reforma da previdência no Br...</td>\n",
       "      <td>[120, 80, 80, 120, 40]</td>\n",
       "      <td>440</td>\n",
       "    </tr>\n",
       "    <tr>\n",
       "      <th>1</th>\n",
       "      <td>51</td>\n",
       "      <td>ANALFABETISMO E SOCIEDADE</td>\n",
       "      <td>['Pode -se afirmar que a presença dos Jesuítas...</td>\n",
       "      <td>[120, 120, 80, 80, 80]</td>\n",
       "      <td>480</td>\n",
       "    </tr>\n",
       "    <tr>\n",
       "      <th>2</th>\n",
       "      <td>73</td>\n",
       "      <td>Caminhos para superar os desafios encontrados ...</td>\n",
       "      <td>['Em 13 de maio de 1888 veio ao Brasil a lei d...</td>\n",
       "      <td>[120, 80, 80, 80, 80]</td>\n",
       "      <td>440</td>\n",
       "    </tr>\n",
       "    <tr>\n",
       "      <th>3</th>\n",
       "      <td>51</td>\n",
       "      <td>Analfabetismo funcional no Brasil tem solução.</td>\n",
       "      <td>['“Uma sociedade só progride quando um se mobi...</td>\n",
       "      <td>[120, 160, 120, 120, 120]</td>\n",
       "      <td>640</td>\n",
       "    </tr>\n",
       "    <tr>\n",
       "      <th>4</th>\n",
       "      <td>59</td>\n",
       "      <td>NaN</td>\n",
       "      <td>['Nas últimas décadas, o Brasil vem enfrentand...</td>\n",
       "      <td>[120, 120, 80, 120, 120]</td>\n",
       "      <td>560</td>\n",
       "    </tr>\n",
       "  </tbody>\n",
       "</table>\n",
       "</div>"
      ],
      "text/plain": [
       "   prompt                                              title  \\\n",
       "0      60                             Reforma da previdência   \n",
       "1      51                          ANALFABETISMO E SOCIEDADE   \n",
       "2      73  Caminhos para superar os desafios encontrados ...   \n",
       "3      51     Analfabetismo funcional no Brasil tem solução.   \n",
       "4      59                                                NaN   \n",
       "\n",
       "                                               essay  \\\n",
       "0  ['É notório que a reforma da previdência no Br...   \n",
       "1  ['Pode -se afirmar que a presença dos Jesuítas...   \n",
       "2  ['Em 13 de maio de 1888 veio ao Brasil a lei d...   \n",
       "3  ['“Uma sociedade só progride quando um se mobi...   \n",
       "4  ['Nas últimas décadas, o Brasil vem enfrentand...   \n",
       "\n",
       "                  competence  score  \n",
       "0     [120, 80, 80, 120, 40]    440  \n",
       "1     [120, 120, 80, 80, 80]    480  \n",
       "2      [120, 80, 80, 80, 80]    440  \n",
       "3  [120, 160, 120, 120, 120]    640  \n",
       "4   [120, 120, 80, 120, 120]    560  "
      ]
     },
     "execution_count": 6,
     "metadata": {},
     "output_type": "execute_result"
    }
   ],
   "source": [
    "import pandas as pd\n",
    "\n",
    "df = pd.read_csv('essay-br/splits/training.csv')\n",
    "df.head(5)\n",
    "\n"
   ]
  },
  {
   "cell_type": "code",
   "execution_count": null,
   "id": "bb9bd3b7-feae-4593-bd49-2ac704a3623b",
   "metadata": {},
   "outputs": [],
   "source": []
  }
 ],
 "metadata": {
  "kernelspec": {
   "display_name": "Python 3 (ipykernel)",
   "language": "python",
   "name": "python3"
  },
  "language_info": {
   "codemirror_mode": {
    "name": "ipython",
    "version": 3
   },
   "file_extension": ".py",
   "mimetype": "text/x-python",
   "name": "python",
   "nbconvert_exporter": "python",
   "pygments_lexer": "ipython3",
   "version": "3.11.5"
  }
 },
 "nbformat": 4,
 "nbformat_minor": 5
}
