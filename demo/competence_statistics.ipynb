{
 "cells": [
  {
   "cell_type": "markdown",
   "source": [
    "### 1. To beautiful print"
   ],
   "metadata": {
    "collapsed": false
   }
  },
  {
   "cell_type": "markdown",
   "source": [
    "`pip install beautifultable`"
   ],
   "metadata": {
    "collapsed": false,
    "pycharm": {
     "name": "#%% md\n"
    }
   }
  },
  {
   "cell_type": "markdown",
   "source": [
    "### 2. Import packages"
   ],
   "metadata": {
    "collapsed": false
   }
  },
  {
   "cell_type": "code",
   "execution_count": 1,
   "outputs": [],
   "source": [
    "from build_dataset import Corpus\n",
    "from statistics import Statistic\n",
    "\n",
    "from beautifultable import BeautifulTable"
   ],
   "metadata": {
    "collapsed": false,
    "pycharm": {
     "name": "#%%\n"
    }
   }
  },
  {
   "cell_type": "markdown",
   "source": [
    "### 3. Read the corpus"
   ],
   "metadata": {
    "collapsed": false
   }
  },
  {
   "cell_type": "code",
   "execution_count": 2,
   "outputs": [],
   "source": [
    "train, dev, test = Corpus().read_corpus()"
   ],
   "metadata": {
    "collapsed": false,
    "pycharm": {
     "name": "#%%\n"
    }
   }
  },
  {
   "cell_type": "markdown",
   "source": [
    "### 4. Get some statistics"
   ],
   "metadata": {
    "collapsed": false
   }
  },
  {
   "cell_type": "code",
   "execution_count": 3,
   "outputs": [
    {
     "name": "stdout",
     "output_type": "stream",
     "text": [
      "+=======+============+=====+====+=====+======+=====+=====+\n",
      "| Split | Competence |  0  | 40 | 80  | 120  | 160 | 200 |\n",
      "+=======+============+=====+====+=====+======+=====+=====+\n",
      "| Train |     C1     | 114 | 15 | 444 | 1594 | 690 | 186 |\n",
      "+-------+------------+-----+----+-----+------+-----+-----+\n"
     ]
    }
   ],
   "source": [
    "table = BeautifulTable()\n",
    "table.column_headers = ['Split', 'Competence']\n",
    "table.append_row(['Train', 'C1'])\n",
    "\n",
    "stat = Statistic(train)\n",
    "scores = stat.competence_score()\n",
    "for key, value in sorted(scores[0].items()):\n",
    "    if key == 0:\n",
    "        table.append_column('0', [value])\n",
    "    elif key == 40:\n",
    "        table.append_column('40', [value])\n",
    "    elif key == 80:\n",
    "        table.append_column('80', [value])\n",
    "    elif key == 120:\n",
    "        table.append_column('120', [value])\n",
    "    elif key == 160:\n",
    "        table.append_column('160', [value])\n",
    "    elif key == 180:\n",
    "        table.append_column('180', [value])\n",
    "    else:\n",
    "        table.append_column('200', [value])\n",
    "table.set_style(BeautifulTable.STYLE_SEPARATED)\n",
    "print(table)"
   ],
   "metadata": {
    "collapsed": false,
    "pycharm": {
     "name": "#%%\n"
    }
   }
  },
  {
   "cell_type": "code",
   "execution_count": 4,
   "outputs": [
    {
     "name": "stdout",
     "output_type": "stream",
     "text": [
      "+=======+============+====+====+====+=====+=====+=====+\n",
      "| Split | Competence | 0  | 40 | 80 | 120 | 160 | 200 |\n",
      "+=======+============+====+====+====+=====+=====+=====+\n",
      "|  Dev  |     C2     | 15 | 8  | 92 | 153 | 83  | 29  |\n",
      "+-------+------------+----+----+----+-----+-----+-----+\n"
     ]
    }
   ],
   "source": [
    "table = BeautifulTable()\n",
    "table.column_headers = ['Split', 'Competence']\n",
    "table.append_row(['Dev', 'C2'])\n",
    "\n",
    "stat = Statistic(dev)\n",
    "scores = stat.competence_score()\n",
    "for key, value in sorted(scores[1].items()):\n",
    "    if key == 0:\n",
    "        table.append_column('0', [value])\n",
    "    elif key == 40:\n",
    "        table.append_column('40', [value])\n",
    "    elif key == 80:\n",
    "        table.append_column('80', [value])\n",
    "    elif key == 120:\n",
    "        table.append_column('120', [value])\n",
    "    elif key == 160:\n",
    "        table.append_column('160', [value])\n",
    "    elif key == 180:\n",
    "        table.append_column('180', [value])\n",
    "    else:\n",
    "        table.append_column('200', [value])\n",
    "table.set_style(BeautifulTable.STYLE_SEPARATED)\n",
    "print(table)"
   ],
   "metadata": {
    "collapsed": false,
    "pycharm": {
     "name": "#%%\n"
    }
   }
  },
  {
   "cell_type": "code",
   "execution_count": 5,
   "outputs": [
    {
     "name": "stdout",
     "output_type": "stream",
     "text": [
      "+=======+============+====+====+=====+=====+=====+=====+\n",
      "| Split | Competence | 0  | 40 | 80  | 120 | 160 | 200 |\n",
      "+=======+============+====+====+=====+=====+=====+=====+\n",
      "| Test  |     C3     | 27 | 11 | 150 | 137 | 41  | 15  |\n",
      "+-------+------------+----+----+-----+-----+-----+-----+\n"
     ]
    }
   ],
   "source": [
    "table = BeautifulTable()\n",
    "table.column_headers = ['Split', 'Competence']\n",
    "table.append_row(['Test', 'C3'])\n",
    "\n",
    "stat = Statistic(test)\n",
    "scores = stat.competence_score()\n",
    "for key, value in sorted(scores[2].items()):\n",
    "    if key == 0:\n",
    "        table.append_column('0', [value])\n",
    "    elif key == 40:\n",
    "        table.append_column('40', [value])\n",
    "    elif key == 80:\n",
    "        table.append_column('80', [value])\n",
    "    elif key == 120:\n",
    "        table.append_column('120', [value])\n",
    "    elif key == 160:\n",
    "        table.append_column('160', [value])\n",
    "    elif key == 180:\n",
    "        table.append_column('180', [value])\n",
    "    else:\n",
    "        table.append_column('200', [value])\n",
    "table.set_style(BeautifulTable.STYLE_SEPARATED)\n",
    "print(table)\n"
   ],
   "metadata": {
    "collapsed": false,
    "pycharm": {
     "name": "#%%\n"
    }
   }
  }
 ],
 "metadata": {
  "kernelspec": {
   "name": "pycharm-c9bdc397",
   "language": "python",
   "display_name": "PyCharm (essay)"
  },
  "language_info": {
   "codemirror_mode": {
    "name": "ipython",
    "version": 2
   },
   "file_extension": ".py",
   "mimetype": "text/x-python",
   "name": "python",
   "nbconvert_exporter": "python",
   "pygments_lexer": "ipython2",
   "version": "2.7.6"
  }
 },
 "nbformat": 4,
 "nbformat_minor": 0
}