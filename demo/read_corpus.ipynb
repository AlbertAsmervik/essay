{
 "cells": [
  {
   "cell_type": "markdown",
   "source": [
    "### 1. Downloading Essay-BR\n",
    "`git clone https://github.com/rafaelanchieta/essay`\n",
    "\n",
    "### 2. Install requirements\n",
    "`pip install -r requirements.txt`\n",
    "\n",
    "### 3. Read the corpus"
   ],
   "metadata": {
    "collapsed": false,
    "pycharm": {
     "name": "#%% md\n"
    }
   }
  },
  {
   "cell_type": "code",
   "execution_count": 8,
   "outputs": [
    {
     "data": {
      "text/plain": "(3043, 5)"
     },
     "execution_count": 8,
     "metadata": {},
     "output_type": "execute_result"
    }
   ],
   "source": [
    "from build_dataset import Corpus\n",
    "\n",
    "corpus = Corpus()\n",
    "train, dev, test = corpus.read_corpus()\n",
    "\n",
    "train.shape\n"
   ],
   "metadata": {
    "collapsed": false,
    "pycharm": {
     "name": "#%%\n"
    }
   }
  },
  {
   "cell_type": "code",
   "execution_count": 9,
   "outputs": [
    {
     "data": {
      "text/plain": "(380, 5)"
     },
     "execution_count": 9,
     "metadata": {},
     "output_type": "execute_result"
    }
   ],
   "source": [
    "dev.shape"
   ],
   "metadata": {
    "collapsed": false,
    "pycharm": {
     "name": "#%%\n"
    }
   }
  },
  {
   "cell_type": "code",
   "execution_count": 10,
   "outputs": [
    {
     "data": {
      "text/plain": "(381, 5)"
     },
     "execution_count": 10,
     "metadata": {},
     "output_type": "execute_result"
    }
   ],
   "source": [
    "test.shape"
   ],
   "metadata": {
    "collapsed": false,
    "pycharm": {
     "name": "#%%\n"
    }
   }
  },
  {
   "cell_type": "code",
   "execution_count": 11,
   "outputs": [
    {
     "data": {
      "text/plain": "                                              prompt  \\\n0        a-questao-do-lixo-nas-sociedades-de-consumo   \n1  o-jovem-perdeu-o-interesse-pela-participacao-e...   \n\n                 competence  score  \n0  [120, 160, 120, 120, 80]    600  \n1          [80, 0, 0, 0, 0]     80  ",
      "text/html": "<div>\n<style scoped>\n    .dataframe tbody tr th:only-of-type {\n        vertical-align: middle;\n    }\n\n    .dataframe tbody tr th {\n        vertical-align: top;\n    }\n\n    .dataframe thead th {\n        text-align: right;\n    }\n</style>\n<table border=\"1\" class=\"dataframe\">\n  <thead>\n    <tr style=\"text-align: right;\">\n      <th></th>\n      <th>prompt</th>\n      <th>competence</th>\n      <th>score</th>\n    </tr>\n  </thead>\n  <tbody>\n    <tr>\n      <th>0</th>\n      <td>a-questao-do-lixo-nas-sociedades-de-consumo</td>\n      <td>[120, 160, 120, 120, 80]</td>\n      <td>600</td>\n    </tr>\n    <tr>\n      <th>1</th>\n      <td>o-jovem-perdeu-o-interesse-pela-participacao-e...</td>\n      <td>[80, 0, 0, 0, 0]</td>\n      <td>80</td>\n    </tr>\n  </tbody>\n</table>\n</div>"
     },
     "execution_count": 11,
     "metadata": {},
     "output_type": "execute_result"
    }
   ],
   "source": [
    "train[['prompt', 'competence', 'score']].head(2)"
   ],
   "metadata": {
    "collapsed": false,
    "pycharm": {
     "name": "#%%\n"
    }
   }
  },
  {
   "cell_type": "code",
   "execution_count": 12,
   "outputs": [
    {
     "data": {
      "text/plain": "                                              prompt  \\\n0  Como reverter o cenário da atual situação carc...   \n1                           Desmatamento e queimadas   \n\n                  competence  score  \n0      [120, 80, 80, 80, 80]    440  \n1  [120, 120, 120, 120, 120]    600  ",
      "text/html": "<div>\n<style scoped>\n    .dataframe tbody tr th:only-of-type {\n        vertical-align: middle;\n    }\n\n    .dataframe tbody tr th {\n        vertical-align: top;\n    }\n\n    .dataframe thead th {\n        text-align: right;\n    }\n</style>\n<table border=\"1\" class=\"dataframe\">\n  <thead>\n    <tr style=\"text-align: right;\">\n      <th></th>\n      <th>prompt</th>\n      <th>competence</th>\n      <th>score</th>\n    </tr>\n  </thead>\n  <tbody>\n    <tr>\n      <th>0</th>\n      <td>Como reverter o cenário da atual situação carc...</td>\n      <td>[120, 80, 80, 80, 80]</td>\n      <td>440</td>\n    </tr>\n    <tr>\n      <th>1</th>\n      <td>Desmatamento e queimadas</td>\n      <td>[120, 120, 120, 120, 120]</td>\n      <td>600</td>\n    </tr>\n  </tbody>\n</table>\n</div>"
     },
     "execution_count": 12,
     "metadata": {},
     "output_type": "execute_result"
    }
   ],
   "source": [
    "dev[['prompt', 'competence', 'score']].head(2)"
   ],
   "metadata": {
    "collapsed": false,
    "pycharm": {
     "name": "#%%\n"
    }
   }
  },
  {
   "cell_type": "code",
   "execution_count": 13,
   "outputs": [
    {
     "data": {
      "text/plain": "                                             prompt  \\\n0      Democratização do acesso ao cinema no Brasil   \n1  o-conflito-entre-geracoes-e-a-convivencia-social   \n\n                  competence  score  \n0     [120, 80, 80, 120, 80]    480  \n1  [160, 200, 200, 200, 160]    920  ",
      "text/html": "<div>\n<style scoped>\n    .dataframe tbody tr th:only-of-type {\n        vertical-align: middle;\n    }\n\n    .dataframe tbody tr th {\n        vertical-align: top;\n    }\n\n    .dataframe thead th {\n        text-align: right;\n    }\n</style>\n<table border=\"1\" class=\"dataframe\">\n  <thead>\n    <tr style=\"text-align: right;\">\n      <th></th>\n      <th>prompt</th>\n      <th>competence</th>\n      <th>score</th>\n    </tr>\n  </thead>\n  <tbody>\n    <tr>\n      <th>0</th>\n      <td>Democratização do acesso ao cinema no Brasil</td>\n      <td>[120, 80, 80, 120, 80]</td>\n      <td>480</td>\n    </tr>\n    <tr>\n      <th>1</th>\n      <td>o-conflito-entre-geracoes-e-a-convivencia-social</td>\n      <td>[160, 200, 200, 200, 160]</td>\n      <td>920</td>\n    </tr>\n  </tbody>\n</table>\n</div>"
     },
     "execution_count": 13,
     "metadata": {},
     "output_type": "execute_result"
    }
   ],
   "source": [
    "test[['prompt', 'competence', 'score']].head(2)\n"
   ],
   "metadata": {
    "collapsed": false,
    "pycharm": {
     "name": "#%%\n"
    }
   }
  }
 ],
 "metadata": {
  "kernelspec": {
   "name": "pycharm-c9bdc397",
   "language": "python",
   "display_name": "PyCharm (essay)"
  },
  "language_info": {
   "codemirror_mode": {
    "name": "ipython",
    "version": 2
   },
   "file_extension": ".py",
   "mimetype": "text/x-python",
   "name": "python",
   "nbconvert_exporter": "python",
   "pygments_lexer": "ipython2",
   "version": "2.7.6"
  }
 },
 "nbformat": 4,
 "nbformat_minor": 0
}