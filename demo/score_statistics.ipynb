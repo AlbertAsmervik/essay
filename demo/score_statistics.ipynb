{
 "cells": [
  {
   "cell_type": "markdown",
   "metadata": {
    "pycharm": {
     "name": "#%% md\n"
    }
   },
   "source": [
    "### 1. To beautiful print\n",
    "`pip install beautifultable`"
   ]
  },
  {
   "cell_type": "markdown",
   "metadata": {},
   "source": [
    "### 2. Import packages"
   ]
  },
  {
   "cell_type": "code",
   "execution_count": 1,
   "metadata": {
    "pycharm": {
     "name": "#%%\n"
    }
   },
   "outputs": [],
   "source": [
    "from build_dataset import Corpus\n",
    "from statistics import Statistic\n",
    "\n",
    "from beautifultable import BeautifulTable"
   ]
  },
  {
   "cell_type": "markdown",
   "metadata": {},
   "source": [
    "### 3. Compute some statistics"
   ]
  },
  {
   "cell_type": "code",
   "execution_count": 2,
   "metadata": {
    "pycharm": {
     "name": "#%%\n"
    }
   },
   "outputs": [],
   "source": [
    "table = BeautifulTable()\n",
    "table.column_headers = ['Statistic', 'Average', 'Standard deviation']\n",
    "\n",
    "train, dev, test = Corpus().read_corpus()\n",
    "stat = Statistic(train)\n",
    "values = stat.statistics_essays()\n",
    "\n",
    "avg_para_per_essay = values[0]  # average paragraph per essay\n",
    "std_para_per_essay = values[5]  # standard deviation paragraph per essay\n",
    "avg_snt_per_essay = values[2]\n",
    "std_snt_per_essay = values[4]\n",
    "avg_snt_per_para = values[1]\n",
    "sts_snt_per_para = values[3]"
   ]
  },
  {
   "cell_type": "code",
   "execution_count": 4,
   "outputs": [
    {
     "name": "stdout",
     "output_type": "stream",
     "text": [
      "+========================+=========+====================+\n",
      "|       Statistic        | Average | Standard deviation |\n",
      "+========================+=========+====================+\n",
      "|  Paragraph per essay   |  4.731  |       2.895        |\n",
      "+------------------------+---------+--------------------+\n",
      "|   Sentence per essay   | 10.467  |       4.462        |\n",
      "+------------------------+---------+--------------------+\n",
      "| Sentence per paragraph |  2.212  |       1.886        |\n",
      "+------------------------+---------+--------------------+\n",
      "|  Paragraph per essay   |  4.731  |       2.895        |\n",
      "+------------------------+---------+--------------------+\n",
      "|   Sentence per essay   | 10.467  |       4.462        |\n",
      "+------------------------+---------+--------------------+\n",
      "| Sentence per paragraph |  2.212  |       1.886        |\n",
      "+------------------------+---------+--------------------+\n"
     ]
    }
   ],
   "source": [
    "table.append_row(['Paragraph per essay', avg_para_per_essay, std_para_per_essay])\n",
    "table.append_row(['Sentence per essay', avg_snt_per_essay, std_snt_per_essay])\n",
    "table.append_row(['Sentence per paragraph', avg_snt_per_para, sts_snt_per_para])\n",
    "\n",
    "table.set_style(BeautifulTable.STYLE_SEPARATED)\n",
    "print(table)\n",
    "\n",
    "\n"
   ],
   "metadata": {
    "collapsed": false,
    "pycharm": {
     "name": "#%%\n"
    }
   }
  }
 ],
 "metadata": {
  "kernelspec": {
   "display_name": "PyCharm (essay)",
   "language": "python",
   "name": "pycharm-c9bdc397"
  },
  "language_info": {
   "codemirror_mode": {
    "name": "ipython",
    "version": 3
   },
   "file_extension": ".py",
   "mimetype": "text/x-python",
   "name": "python",
   "nbconvert_exporter": "python",
   "pygments_lexer": "ipython3",
   "version": "3.6.9"
  }
 },
 "nbformat": 4,
 "nbformat_minor": 1
}