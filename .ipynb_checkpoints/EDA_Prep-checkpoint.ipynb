{
 "cells": [
  {
   "cell_type": "code",
   "execution_count": 1,
   "id": "ba090ba0-32e8-4556-ac66-e3ac8500c1ae",
   "metadata": {},
   "outputs": [
    {
     "name": "stdout",
     "output_type": "stream",
     "text": [
      "   prompt                                              title  \\\n",
      "0      60                             Reforma da previdência   \n",
      "1      51                          ANALFABETISMO E SOCIEDADE   \n",
      "2      73  Caminhos para superar os desafios encontrados ...   \n",
      "3      51     Analfabetismo funcional no Brasil tem solução.   \n",
      "4      59                                                NaN   \n",
      "\n",
      "                                               essay  \\\n",
      "0  ['É notório que a reforma da previdência no Br...   \n",
      "1  ['Pode -se afirmar que a presença dos Jesuítas...   \n",
      "2  ['Em 13 de maio de 1888 veio ao Brasil a lei d...   \n",
      "3  ['“Uma sociedade só progride quando um se mobi...   \n",
      "4  ['Nas últimas décadas, o Brasil vem enfrentand...   \n",
      "\n",
      "                  competence  score  \n",
      "0     [120, 80, 80, 120, 40]    440  \n",
      "1     [120, 120, 80, 80, 80]    480  \n",
      "2      [120, 80, 80, 80, 80]    440  \n",
      "3  [120, 160, 120, 120, 120]    640  \n",
      "4   [120, 120, 80, 120, 120]    560  \n",
      "<class 'pandas.core.frame.DataFrame'>\n",
      "RangeIndex: 3198 entries, 0 to 3197\n",
      "Data columns (total 5 columns):\n",
      " #   Column      Non-Null Count  Dtype \n",
      "---  ------      --------------  ----- \n",
      " 0   prompt      3198 non-null   int64 \n",
      " 1   title       2724 non-null   object\n",
      " 2   essay       3198 non-null   object\n",
      " 3   competence  3198 non-null   object\n",
      " 4   score       3198 non-null   int64 \n",
      "dtypes: int64(2), object(3)\n",
      "memory usage: 125.1+ KB\n",
      "None\n"
     ]
    }
   ],
   "source": [
    "import pandas as pd\n",
    "\n",
    "df = pd.read_csv('essay-br/splits/training.csv')\n",
    "print(df.head())  \n",
    "print(df.info())  \n"
   ]
  },
  {
   "cell_type": "code",
   "execution_count": null,
   "id": "bb9bd3b7-feae-4593-bd49-2ac704a3623b",
   "metadata": {},
   "outputs": [],
   "source": []
  }
 ],
 "metadata": {
  "kernelspec": {
   "display_name": "Python 3 (ipykernel)",
   "language": "python",
   "name": "python3"
  },
  "language_info": {
   "codemirror_mode": {
    "name": "ipython",
    "version": 3
   },
   "file_extension": ".py",
   "mimetype": "text/x-python",
   "name": "python",
   "nbconvert_exporter": "python",
   "pygments_lexer": "ipython3",
   "version": "3.11.5"
  }
 },
 "nbformat": 4,
 "nbformat_minor": 5
}
